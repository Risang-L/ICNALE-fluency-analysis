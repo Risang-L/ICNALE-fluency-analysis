{
 "cells": [
  {
   "cell_type": "code",
   "execution_count": null,
   "id": "7002b544-8048-430f-8e36-8e7286c98fe0",
   "metadata": {},
   "outputs": [],
   "source": [
    "# Imports\n",
    "import pandas as pd\n",
    "import matplotlib.pyplot as plt\n",
    "import seaborn as sns"
   ]
  },
  {
   "cell_type": "code",
   "execution_count": null,
   "id": "419734bc-d459-4141-a2ef-478fb10362c5",
   "metadata": {},
   "outputs": [],
   "source": [
    "# Load Data\n",
    "df = pd.read_csv(\"../data/segment_level_analysis.csv\")"
   ]
  },
  {
   "cell_type": "code",
   "execution_count": null,
   "id": "62d0bda8-b422-4cae-9f87-0221c5d05921",
   "metadata": {},
   "outputs": [],
   "source": [
    "# Preview\n",
    "print(f\"Total segments: {len(df)}\")\n",
    "print(f\"Unique speakers: {df['speaker_id'].nunique()}\")\n",
    "df.head()"
   ]
  },
  {
   "cell_type": "code",
   "execution_count": null,
   "id": "f6c89c67-b8c7-40ba-b05c-91d9c8b7f15a",
   "metadata": {},
   "outputs": [],
   "source": [
    "# Number of segments per country\n",
    "segment_counts = df[\"country\"].value_counts().sort_values(ascending=False)\n",
    "\n",
    "plt.figure(figsize=(12, 6))\n",
    "sns.barplot(x=segment_counts.index, y=segment_counts.values)\n",
    "plt.title(\"Number of Segments per Country\")\n",
    "plt.ylabel(\"Segment Count\")\n",
    "plt.xlabel(\"Country\")\n",
    "plt.xticks(rotation=45)\n",
    "plt.tight_layout()\n",
    "plt.show()"
   ]
  },
  {
   "cell_type": "code",
   "execution_count": 1,
   "id": "7893079f-66e3-4659-bd74-e80129cf42c3",
   "metadata": {},
   "outputs": [],
   "source": [
    "# Average words per seconds by country\n",
    "wps_by_country = df.groupby(\"country\")[\"wps\"].mean().sort_values(ascending=False)\n",
    "\n",
    "plt.figure(figsize=(12, 6))\n",
    "sns.barplot(x=wps_by_country.index, y=wps_by_country.values, palette=\"viridis\")\n",
    "plt.title(\"Average Words Per Second by Country\")\n",
    "plt.ylabel(\"WPS\")\n",
    "plt.xlabel(\"Country\")\n",
    "plt.xticks(rotation=45)\n",
    "plt.tight_layout()\n",
    "plt.show()"
   ]
  },
  {
   "cell_type": "code",
   "execution_count": null,
   "id": "8ee5140c-eb3a-4f7a-9a3c-37683c86cd98",
   "metadata": {},
   "outputs": [],
   "source": [
    "# Pause before (seconds > 0) by country\n",
    "df_nonzero = df[df[\"pause_before\"] > 0.0]\n",
    "\n",
    "plt.figure(figsize=(14, 6))\n",
    "sns.boxplot(data=df_nonzero, x=\"country\", y=\"pause_before\", showfliers=False)\n",
    "plt.title(\"Pause Before (seconds > 0) by Country\")\n",
    "plt.ylabel(\"Pause Duration\")\n",
    "plt.xlabel(\"Country\")\n",
    "plt.xticks(rotation=45)\n",
    "plt.tight_layout()\n",
    "plt.show()"
   ]
  },
  {
   "cell_type": "code",
   "execution_count": null,
   "id": "ed505608-ac2e-4f68-8d51-fe9ab0a9435b",
   "metadata": {},
   "outputs": [],
   "source": [
    "# Percents of segments with pauses > 0\n",
    "pause_rate = df.groupby(\"country\")[\"pause_before\"].apply(lambda x: (x > 0).mean() * 100)\n",
    "pause_rate.sort_values(ascending=False).plot(kind=\"bar\", figsize=(12,6), title=\"Percent of Segments with Pauses > 0\")\n",
    "plt.ylabel(\"% of Segments with Pauses\")\n",
    "plt.xlabel(\"Country\")\n",
    "plt.tight_layout()\n",
    "plt.show()"
   ]
  },
  {
   "cell_type": "code",
   "execution_count": null,
   "id": "e9cbcbff-762c-44bb-8b30-4d3adbbaf599",
   "metadata": {},
   "outputs": [],
   "source": [
    "# Compute average WPS and average pause (excluding 0) per country\n",
    "avg_wps = df.groupby(\"country\")[\"wps\"].mean()\n",
    "avg_pause = df[df[\"pause_before\"] > 0].groupby(\"country\")[\"pause_before\"].mean()"
   ]
  },
  {
   "cell_type": "code",
   "execution_count": null,
   "id": "e84ecff3-ecaf-4549-96c0-2a37ca209146",
   "metadata": {},
   "outputs": [],
   "source": [
    "# Combine into a single DataFrame\n",
    "fluency_df = pd.concat([avg_wps, avg_pause], axis=1)\n",
    "fluency_df.columns = [\"avg_wps\", \"avg_pause\"]\n",
    "fluency_df = fluency_df.dropna()  # in case some countries had no pauses"
   ]
  },
  {
   "cell_type": "code",
   "execution_count": null,
   "id": "770b0991-10a0-4952-b3e5-a7d7fc688ddd",
   "metadata": {},
   "outputs": [],
   "source": [
    "# Visualize\n",
    "plt.figure(figsize=(10, 6))\n",
    "sns.scatterplot(data=fluency_df, x=\"avg_wps\", y=\"avg_pause\", hue=fluency_df.index, s=100)\n",
    "\n",
    "for country, row in fluency_df.iterrows():\n",
    "    plt.text(row[\"avg_wps\"] + 0.01, row[\"avg_pause\"] + 0.01, country, fontsize=9)\n",
    "\n",
    "plt.title(\"Average Words Per Second vs Pause Duration (by Country)\")\n",
    "plt.xlabel(\"Average Words Per Second\")\n",
    "plt.ylabel(\"Average Pause Before (seconds)\")\n",
    "plt.grid(True)\n",
    "plt.tight_layout()\n",
    "plt.show()"
   ]
  }
 ],
 "metadata": {
  "kernelspec": {
   "display_name": "Python 3 (ipykernel)",
   "language": "python",
   "name": "python3"
  },
  "language_info": {
   "codemirror_mode": {
    "name": "ipython",
    "version": 3
   },
   "file_extension": ".py",
   "mimetype": "text/x-python",
   "name": "python",
   "nbconvert_exporter": "python",
   "pygments_lexer": "ipython3",
   "version": "3.12.10"
  }
 },
 "nbformat": 4,
 "nbformat_minor": 5
}
